{
  "nbformat": 4,
  "nbformat_minor": 0,
  "metadata": {
    "colab": {
      "name": "TugasPreprocessing.ipynb",
      "provenance": [],
      "authorship_tag": "ABX9TyNJLB8rNRJWsrWnVtuCY8Ac",
      "include_colab_link": true
    },
    "kernelspec": {
      "name": "python3",
      "display_name": "Python 3"
    },
    "language_info": {
      "name": "python"
    }
  },
  "cells": [
    {
      "cell_type": "markdown",
      "metadata": {
        "id": "view-in-github",
        "colab_type": "text"
      },
      "source": [
        "<a href=\"https://colab.research.google.com/github/Satria1725/Data-Mining/blob/main/TugasPreprocessing.ipynb\" target=\"_parent\"><img src=\"https://colab.research.google.com/assets/colab-badge.svg\" alt=\"Open In Colab\"/></a>"
      ]
    },
    {
      "cell_type": "code",
      "metadata": {
        "id": "-pDAtYKaTmq2"
      },
      "source": [
        "import numpy as np\n",
        "import matplotlib.pyplot as plt\n",
        "import pandas as pd"
      ],
      "execution_count": 1,
      "outputs": []
    },
    {
      "cell_type": "code",
      "metadata": {
        "id": "nvLIrJtIfLCI"
      },
      "source": [
        "dataset=pd.read_csv('Uang.csv')\n",
        "x = dataset.iloc[:, :-1].values\n",
        "y = dataset.iloc[:, -1].values"
      ],
      "execution_count": 2,
      "outputs": []
    },
    {
      "cell_type": "code",
      "metadata": {
        "colab": {
          "base_uri": "https://localhost:8080/"
        },
        "id": "G9TlVJZIfdpL",
        "outputId": "d284e30d-7283-4716-a6b5-6a28e11d276a"
      },
      "source": [
        "print(x)"
      ],
      "execution_count": 3,
      "outputs": [
        {
          "output_type": "stream",
          "text": [
            "[['Budi' 10.0 6000.0]\n",
            " ['Handoko' 6.0 5000.0]\n",
            " ['Lucy' 7.0 5000.0]\n",
            " ['Nancy' 8.0 5000.0]\n",
            " ['Theo' 10.0 nan]\n",
            " ['Suci' 12.0 10000.0]\n",
            " ['Adriana' nan 7000.0]]\n"
          ],
          "name": "stdout"
        }
      ]
    },
    {
      "cell_type": "code",
      "metadata": {
        "colab": {
          "base_uri": "https://localhost:8080/"
        },
        "id": "bYitmguQfzWP",
        "outputId": "a0280e3b-3fde-4a15-b0ce-7b92cb8f449e"
      },
      "source": [
        "print(y)"
      ],
      "execution_count": 4,
      "outputs": [
        {
          "output_type": "stream",
          "text": [
            "['Laki-Laki' 'Laki-Laki' 'Perempuan' 'Perempuan' 'Laki-Laki' 'Perempuan'\n",
            " 'Perempuan']\n"
          ],
          "name": "stdout"
        }
      ]
    },
    {
      "cell_type": "code",
      "metadata": {
        "id": "xNL8Igh3Z0rf"
      },
      "source": [
        "from sklearn.impute import SimpleImputer\n",
        "imputer = SimpleImputer(missing_values=np.nan, strategy='mean')\n",
        "imputer.fit(x[:, 1:3])\n",
        "x[:, 1:3] = imputer.transform(x[:, 1:3])"
      ],
      "execution_count": 5,
      "outputs": []
    },
    {
      "cell_type": "code",
      "metadata": {
        "colab": {
          "base_uri": "https://localhost:8080/"
        },
        "id": "UA2_HtJKZ8aP",
        "outputId": "5a5e767c-7ff8-4dcf-c231-2f9723b49a2e"
      },
      "source": [
        "print(x)"
      ],
      "execution_count": 6,
      "outputs": [
        {
          "output_type": "stream",
          "text": [
            "[['Budi' 10.0 6000.0]\n",
            " ['Handoko' 6.0 5000.0]\n",
            " ['Lucy' 7.0 5000.0]\n",
            " ['Nancy' 8.0 5000.0]\n",
            " ['Theo' 10.0 6333.333333333333]\n",
            " ['Suci' 12.0 10000.0]\n",
            " ['Adriana' 8.833333333333334 7000.0]]\n"
          ],
          "name": "stdout"
        }
      ]
    },
    {
      "cell_type": "code",
      "metadata": {
        "id": "hhnI7st9aHXi"
      },
      "source": [
        "from sklearn.compose import ColumnTransformer\n",
        "from sklearn.preprocessing import OneHotEncoder\n",
        "ct = ColumnTransformer(transformers=[('encoder', OneHotEncoder(), [0])], remainder = 'passthrough')\n",
        "x = np.array(ct.fit_transform(x))"
      ],
      "execution_count": 7,
      "outputs": []
    },
    {
      "cell_type": "code",
      "metadata": {
        "colab": {
          "base_uri": "https://localhost:8080/"
        },
        "id": "bBrYw9WbaL5T",
        "outputId": "491d5dd8-a59a-43bc-fd6f-b7de7dc14b56"
      },
      "source": [
        "print(x)"
      ],
      "execution_count": 8,
      "outputs": [
        {
          "output_type": "stream",
          "text": [
            "[[0.0 1.0 0.0 0.0 0.0 0.0 0.0 10.0 6000.0]\n",
            " [0.0 0.0 1.0 0.0 0.0 0.0 0.0 6.0 5000.0]\n",
            " [0.0 0.0 0.0 1.0 0.0 0.0 0.0 7.0 5000.0]\n",
            " [0.0 0.0 0.0 0.0 1.0 0.0 0.0 8.0 5000.0]\n",
            " [0.0 0.0 0.0 0.0 0.0 0.0 1.0 10.0 6333.333333333333]\n",
            " [0.0 0.0 0.0 0.0 0.0 1.0 0.0 12.0 10000.0]\n",
            " [1.0 0.0 0.0 0.0 0.0 0.0 0.0 8.833333333333334 7000.0]]\n"
          ],
          "name": "stdout"
        }
      ]
    },
    {
      "cell_type": "code",
      "metadata": {
        "colab": {
          "base_uri": "https://localhost:8080/"
        },
        "id": "OuadAgcmaRH7",
        "outputId": "a87f9073-2036-4d80-b48a-6067507a3069"
      },
      "source": [
        "print(y)"
      ],
      "execution_count": 9,
      "outputs": [
        {
          "output_type": "stream",
          "text": [
            "['Laki-Laki' 'Laki-Laki' 'Perempuan' 'Perempuan' 'Laki-Laki' 'Perempuan'\n",
            " 'Perempuan']\n"
          ],
          "name": "stdout"
        }
      ]
    },
    {
      "cell_type": "code",
      "metadata": {
        "id": "Q_jM6l56aaaW"
      },
      "source": [
        "from sklearn.preprocessing import LabelEncoder\n",
        "le = LabelEncoder()\n",
        "y = le.fit_transform(y)"
      ],
      "execution_count": 10,
      "outputs": []
    },
    {
      "cell_type": "code",
      "metadata": {
        "colab": {
          "base_uri": "https://localhost:8080/"
        },
        "id": "BmAMbsPUaeL1",
        "outputId": "d51a6729-707d-40b0-9d1a-9c1d582ec934"
      },
      "source": [
        "print(y)"
      ],
      "execution_count": 11,
      "outputs": [
        {
          "output_type": "stream",
          "text": [
            "[0 0 1 1 0 1 1]\n"
          ],
          "name": "stdout"
        }
      ]
    },
    {
      "cell_type": "code",
      "metadata": {
        "id": "S-1u4AFXafTf"
      },
      "source": [
        "from sklearn.model_selection import train_test_split\n",
        "x_train, x_test, y_train, y_test = train_test_split(x, y, test_size=0.2, random_state=1)"
      ],
      "execution_count": 12,
      "outputs": []
    },
    {
      "cell_type": "code",
      "metadata": {
        "colab": {
          "base_uri": "https://localhost:8080/"
        },
        "id": "4Wv8inMgal83",
        "outputId": "749b4d64-dd81-4f5b-ebe3-0bfdbc5aad47"
      },
      "source": [
        "print(x_train)"
      ],
      "execution_count": 13,
      "outputs": [
        {
          "output_type": "stream",
          "text": [
            "[[0.0 0.0 1.0 0.0 0.0 0.0 0.0 6.0 5000.0]\n",
            " [0.0 1.0 0.0 0.0 0.0 0.0 0.0 10.0 6000.0]\n",
            " [0.0 0.0 0.0 0.0 0.0 0.0 1.0 10.0 6333.333333333333]\n",
            " [0.0 0.0 0.0 0.0 1.0 0.0 0.0 8.0 5000.0]\n",
            " [0.0 0.0 0.0 0.0 0.0 1.0 0.0 12.0 10000.0]]\n"
          ],
          "name": "stdout"
        }
      ]
    },
    {
      "cell_type": "code",
      "metadata": {
        "colab": {
          "base_uri": "https://localhost:8080/"
        },
        "id": "6fbBnBfZaqyQ",
        "outputId": "b19b9ac1-d2b5-4587-8f36-883caf996b54"
      },
      "source": [
        "print(x_test)"
      ],
      "execution_count": 15,
      "outputs": [
        {
          "output_type": "stream",
          "text": [
            "[[1.0 0.0 0.0 0.0 0.0 0.0 0.0 8.833333333333334 7000.0]\n",
            " [0.0 0.0 0.0 1.0 0.0 0.0 0.0 7.0 5000.0]]\n"
          ],
          "name": "stdout"
        }
      ]
    },
    {
      "cell_type": "code",
      "metadata": {
        "colab": {
          "base_uri": "https://localhost:8080/"
        },
        "id": "JBrbcTMkax7P",
        "outputId": "8656b20d-f83f-47df-90cc-11f3d3d33f2a"
      },
      "source": [
        "print(y_train)"
      ],
      "execution_count": 16,
      "outputs": [
        {
          "output_type": "stream",
          "text": [
            "[0 0 0 1 1]\n"
          ],
          "name": "stdout"
        }
      ]
    },
    {
      "cell_type": "code",
      "metadata": {
        "colab": {
          "base_uri": "https://localhost:8080/"
        },
        "id": "4Y-cjjCra3N2",
        "outputId": "50c05967-23a0-4aee-8f19-1a30b8e2ea97"
      },
      "source": [
        "print(y_test)"
      ],
      "execution_count": 17,
      "outputs": [
        {
          "output_type": "stream",
          "text": [
            "[1 1]\n"
          ],
          "name": "stdout"
        }
      ]
    },
    {
      "cell_type": "code",
      "metadata": {
        "id": "KUkv50lBa-X5"
      },
      "source": [
        "from sklearn.preprocessing import StandardScaler\n",
        "sc = StandardScaler()\n",
        "x_train[:, 3:] = sc.fit_transform(x_train[:, 3:])\n",
        "x_test[:, 3:] = sc.transform(x_test[:, 3:])"
      ],
      "execution_count": 18,
      "outputs": []
    },
    {
      "cell_type": "code",
      "metadata": {
        "colab": {
          "base_uri": "https://localhost:8080/"
        },
        "id": "W0CqtQXCa_ot",
        "outputId": "70c9878c-34fc-4204-b922-2ac80a858e60"
      },
      "source": [
        "print(x_train)"
      ],
      "execution_count": 19,
      "outputs": [
        {
          "output_type": "stream",
          "text": [
            "[[0.0 0.0 1.0 0.0 -0.5 -0.5 -0.49999999999999994 -1.5689290811054721\n",
            "  -0.7948923108829162]\n",
            " [0.0 1.0 0.0 0.0 -0.5 -0.5 -0.49999999999999994 0.3922322702763685\n",
            "  -0.2529202807354731]\n",
            " [0.0 0.0 0.0 0.0 -0.5 -0.5 1.9999999999999998 0.3922322702763685\n",
            "  -0.07226293735299225]\n",
            " [0.0 0.0 0.0 0.0 2.0 -0.5 -0.49999999999999994 -0.5883484054145518\n",
            "  -0.7948923108829162]\n",
            " [0.0 0.0 0.0 0.0 -0.5 2.0 -0.49999999999999994 1.3728129459672889\n",
            "  1.9149678398542993]]\n"
          ],
          "name": "stdout"
        }
      ]
    },
    {
      "cell_type": "code",
      "metadata": {
        "colab": {
          "base_uri": "https://localhost:8080/"
        },
        "id": "boBBmWMQbE_q",
        "outputId": "f48bf2f8-47ae-4c09-8fe8-5c005cadf3a0"
      },
      "source": [
        "print(x_test)"
      ],
      "execution_count": 20,
      "outputs": [
        {
          "output_type": "stream",
          "text": [
            "[[1.0 0.0 0.0 0.0 -0.5 -0.5 -0.49999999999999994 -0.17977312387666808\n",
            "  0.28905174941197]\n",
            " [0.0 0.0 0.0 1.0 -0.5 -0.5 -0.49999999999999994 -1.078638743260012\n",
            "  -0.7948923108829162]]\n"
          ],
          "name": "stdout"
        }
      ]
    }
  ]
}